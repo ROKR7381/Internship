{
 "cells": [
  {
   "cell_type": "markdown",
   "id": "065a9a64",
   "metadata": {},
   "source": [
    "11. Write a python program to find the factorial of a number."
   ]
  },
  {
   "cell_type": "code",
   "execution_count": 6,
   "id": "5d2bf34e",
   "metadata": {},
   "outputs": [
    {
     "name": "stdout",
     "output_type": "stream",
     "text": [
      "Enter the number4\n",
      "4!=24\n"
     ]
    }
   ],
   "source": [
    "number = int(input(\"Enter the number\"))\n",
    "factorial = 1\n",
    "if (number<0):\n",
    "    print(\"cannot print factorial of negative number.provide positive number : \")\n",
    "elif(number<2):\n",
    "    print(\"{}! = {}\".format(number,factorial))\n",
    "else:\n",
    "    for num in range(number,1,-1):\n",
    "        factorial=factorial * num\n",
    "    print(\"{}!={}\".format(number,factorial))"
   ]
  },
  {
   "cell_type": "markdown",
   "id": "134a4c1d",
   "metadata": {},
   "source": [
    "12. Write a python program to find whether a number is prime or composite."
   ]
  },
  {
   "cell_type": "code",
   "execution_count": 18,
   "id": "cb92918c",
   "metadata": {},
   "outputs": [
    {
     "name": "stdout",
     "output_type": "stream",
     "text": [
      "Enter a number :5\n",
      "its a prime number\n"
     ]
    }
   ],
   "source": [
    "number = int(input(\"Enter a number :\"))\n",
    "count=0\n",
    "i = 1\n",
    "while i<=num:\n",
    "    if num % i==0:\n",
    "        count = count+1\n",
    "    i=i+1\n",
    "    \n",
    "if count==2:\n",
    "    print(\"its a prime number\")\n",
    "    \n",
    "elif count>2:\n",
    "    print(\"its a composite number : \")\n",
    "else:\n",
    "    print('The number is neither prime nor composite')"
   ]
  },
  {
   "cell_type": "markdown",
   "id": "4b6060ff",
   "metadata": {},
   "source": [
    "Write a python program to check whether a given string is palindrome or not."
   ]
  },
  {
   "cell_type": "code",
   "execution_count": 24,
   "id": "62920cf6",
   "metadata": {},
   "outputs": [
    {
     "name": "stdout",
     "output_type": "stream",
     "text": [
      "Enter a string :suresh\n",
      "Not a palindrome string : TRY AGAIN!!!\n"
     ]
    }
   ],
   "source": [
    "a = input(\"Enter a string :\")\n",
    "b = a[-1::-1]\n",
    "if(a==b):\n",
    "    print(\"Palindrome string :YOU CRACKED IT!!! \")\n",
    "else:\n",
    "    print(\"Not a palindrome string : TRY AGAIN!!!\")"
   ]
  },
  {
   "cell_type": "markdown",
   "id": "539e8616",
   "metadata": {},
   "source": [
    "14. Write a Python program to get the third side of right-angled triangle from two given sides.\n"
   ]
  },
  {
   "cell_type": "code",
   "execution_count": 13,
   "id": "19a1a3a0",
   "metadata": {},
   "outputs": [
    {
     "name": "stdout",
     "output_type": "stream",
     "text": [
      "enter one side of triangle:  3\n",
      "enter second side of triangle:  4\n",
      "Third side of triangle is:  5.0\n"
     ]
    }
   ],
   "source": [
    "a = int(input(\"enter one side of triangle:  \"))\n",
    "b = int(input(\"enter second side of triangle:  \"))\n",
    "c = (a**2+b**2)\n",
    "d =c**.5\n",
    "print(\"Third side of triangle is: \",d)\n"
   ]
  },
  {
   "cell_type": "markdown",
   "id": "23e56c81",
   "metadata": {},
   "source": [
    "5. Write a python program to print the frequency of each of the characters present in a given string."
   ]
  },
  {
   "cell_type": "code",
   "execution_count": 14,
   "id": "6c5c3bba",
   "metadata": {},
   "outputs": [
    {
     "name": "stdout",
     "output_type": "stream",
     "text": [
      "Enter the stringeerrrtthhjggffjjj\n",
      "{'e': 2, 'r': 3, 't': 2, 'h': 2, 'j': 4, 'g': 2, 'f': 2}\n"
     ]
    }
   ],
   "source": [
    "my_str = input(\"Enter the string\")\n",
    "d1 = dict()\n",
    "for c in my_str:\n",
    "    if c in d1:\n",
    "        d1[c] = d1[c] + 1\n",
    "    else:\n",
    "        d1[c] = 1\n",
    "print(d1)"
   ]
  },
  {
   "cell_type": "code",
   "execution_count": null,
   "id": "80ec5604",
   "metadata": {},
   "outputs": [],
   "source": []
  }
 ],
 "metadata": {
  "kernelspec": {
   "display_name": "Python 3",
   "language": "python",
   "name": "python3"
  },
  "language_info": {
   "codemirror_mode": {
    "name": "ipython",
    "version": 3
   },
   "file_extension": ".py",
   "mimetype": "text/x-python",
   "name": "python",
   "nbconvert_exporter": "python",
   "pygments_lexer": "ipython3",
   "version": "3.8.8"
  }
 },
 "nbformat": 4,
 "nbformat_minor": 5
}
